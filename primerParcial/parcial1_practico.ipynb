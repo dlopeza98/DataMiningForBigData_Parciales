{
  "cells": [
    {
      "cell_type": "markdown",
      "metadata": {},
      "source": [
        "# Parcial 1 Data Mining For Big Data"
      ]
    },
    {
      "cell_type": "markdown",
      "metadata": {
        "id": "hdK7I0-L9_SK"
      },
      "source": [
        "Una técnica clásica para analizar un conjunto de documentos es calcular su indice TF-iDF. La idea detrás de este índice es saber cuales son las palabras relevantes en un documento. La intuición nace en hallar las palabras con mucha frecuencia pero que aparecen en pocos textos. De manera más específica el indice Tf-idf para un par palabra i documento j está dado por:"
      ]
    },
    {
      "cell_type": "markdown",
      "metadata": {
        "id": "KnNuE4CrAwVo"
      },
      "source": [
        "![image.png](data:image/png;base64,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)"
      ]
    },
    {
      "cell_type": "markdown",
      "metadata": {
        "id": "00oPZKP-A2zg"
      },
      "source": [
        "Encuentre dichos coeficientes para las parejas palabra documento, dónde, documento es una linea de un archivo de texto. Puede usar o no las porciones de código de los notebooks hechos en clase. La única condición es que use al menos un map y un reduce (no es necesario usar Hadoop y/o Spark, sólo los conceptos de Mappers y Reducers para el cálculo).\n",
        "\n",
        "Para cada paso principal **incluya una celda de texto o comentario en el código explicando por qué tomó la decisión de hacer el cálculo de esa manera** (esta explicación con sus propias palabras es obligatoria y vale la mitad del resultado del parcial).\n"
      ]
    },
    {
      "cell_type": "markdown",
      "metadata": {},
      "source": [
        "## Entorno de ejecución.\n",
        "\n",
        "Este ejercicio se solucionó de manera local utilizando `pipenv` en Windows Subsystem for Linux (WSL). Para ejecutar el Notebook siga las indicaciones del archivo `README`.\n",
        "\n",
        "## Datos.\n",
        "\n",
        "Los datos se agregaron manualmente en el repositorio del proyecto. Si va a ejecutar en google colab, puede comentar la celda de cargue de los datos local y descomentar las celdas de carga de datos desde drive."
      ]
    },
    {
      "cell_type": "code",
      "execution_count": 4,
      "metadata": {},
      "outputs": [
        {
          "name": "stdout",
          "output_type": "stream",
          "text": [
            "The Project Gutenberg EBook of The Complete Works of William Shakespeare, by\n",
            "William Shakespeare\n",
            "\n",
            "This eBook is for the use of anyone anywhere at no cost and with\n",
            "almost no restrictions whatsoever.  You may copy it, give it away or\n",
            "re-use it under the terms of the Project Gutenberg License included\n",
            "with this eBook or online at www.gutenberg.org\n",
            "\n",
            "** This is a COPYRIGHTED Project Gutenberg eBook, Details Below **\n",
            "**     Please follow the copyright guidelines in this file.     **\n"
          ]
        }
      ],
      "source": [
        "## Mostrar las 10 primeras filas del libro\n",
        "!head -10 pg100.txt"
      ]
    },
    {
      "cell_type": "code",
      "execution_count": 5,
      "metadata": {},
      "outputs": [],
      "source": [
        "### Datos con ejecución en colab.  ------->  Descomente si ejecuta en colab.\n",
        "#from pydrive.auth import GoogleAuth\n",
        "#from pydrive.drive import GoogleDrive\n",
        "#from google.colab import auth\n",
        "#from oauth2client.client import GoogleCredentials#\n",
        "\n",
        "## Authenticate and create the PyDrive client\n",
        "#auth.authenticate_user()\n",
        "#gauth = GoogleAuth()\n",
        "#gauth.credentials = GoogleCredentials.get_application_default()\n",
        "#drive = GoogleDrive(gauth)#\n",
        "\n",
        "#id='1SE6k_0YukzGd5wK-E4i6mG83nydlfvSa'\n",
        "#downloaded = drive.CreateFile({'id': id})\n",
        "## Documento principal\n",
        "#downloaded.GetContentFile('pg100.txt')"
      ]
    },
    {
      "cell_type": "markdown",
      "metadata": {},
      "source": [
        "## Solución\n",
        "\n",
        "Para resolver este problema se va a fragmentar el ebook `The Complete Works of William Shakespeare, by\n",
        "William Shakespeare` por línea de texto, cada línea representará un Documento.\n",
        "\n",
        "Luego, se utilizará MapReduce para calcular el índice `TF-iDF` para cada palabra. No se aplicarán transformaciones al texto ni se van a remover stop words.\n",
        "\n",
        "Se va a realizar el proceso simulando un escenario con `pyspark` y finalmente se formateará la versión de `pyspark en entorno productivo`."
      ]
    },
    {
      "cell_type": "markdown",
      "metadata": {},
      "source": [
        "### Librerías"
      ]
    },
    {
      "cell_type": "code",
      "execution_count": 6,
      "metadata": {},
      "outputs": [],
      "source": [
        "from pyspark.sql import SparkSession\n",
        "from operator import add\n",
        "from math import log"
      ]
    },
    {
      "cell_type": "markdown",
      "metadata": {},
      "source": [
        "### 2. Calculando índice TF-iDF con MapReduce"
      ]
    },
    {
      "cell_type": "markdown",
      "metadata": {},
      "source": [
        "#### `PySpark`"
      ]
    },
    {
      "cell_type": "code",
      "execution_count": 7,
      "metadata": {},
      "outputs": [],
      "source": [
        "text_file=\"pg100.txt\""
      ]
    },
    {
      "cell_type": "code",
      "execution_count": 8,
      "metadata": {},
      "outputs": [
        {
          "name": "stderr",
          "output_type": "stream",
          "text": [
            "your 131072x1 screen size is bogus. expect trouble\n",
            "24/03/03 19:01:49 WARN Utils: Your hostname, LAPTOP-VGV787K4 resolves to a loopback address: 127.0.1.1; using 172.23.1.52 instead (on interface eth0)\n",
            "24/03/03 19:01:49 WARN Utils: Set SPARK_LOCAL_IP if you need to bind to another address\n",
            "Setting default log level to \"WARN\".\n",
            "To adjust logging level use sc.setLogLevel(newLevel). For SparkR, use setLogLevel(newLevel).\n",
            "24/03/03 19:01:51 WARN NativeCodeLoader: Unable to load native-hadoop library for your platform... using builtin-java classes where applicable\n",
            "                                                                                \r"
          ]
        }
      ],
      "source": [
        "from pyspark.sql import SparkSession\n",
        "from math import log\n",
        "from operator import add\n",
        "\n",
        "# Toma una sesión de Spark existente y en caso de que no exista la crea\n",
        "spark = SparkSession.builder.appName('TF-IDF').getOrCreate()\n",
        "\n",
        "# Leemos el archivo en un RDD donde cada línea es un documento\n",
        "lines = spark.read.text('pg100.txt').rdd.map(lambda r: r[0])\n",
        "# * Explicación de pasos:\n",
        "# 1. spark.read.text() lee archivos a la sesión de spark en formato texto\n",
        "# 2. `.rdd` convierte el archivo de texto en un Resilent Distributed Dataset, separandolo por cada línea\n",
        "# 3. `.map` mapea el rdd por su único elemento (r[0]) que corresponde a todo el texto de la línea\n",
        "\n",
        "\n",
        "# Calcular el número total de documentos (líneas)\n",
        "total_documents = lines.count()\n",
        "\n",
        "\n",
        "# Calculamor la frecuencia de términos (TF) de cada palabra en cada documento\n",
        "tf = lines.zipWithIndex() \\\n",
        "          .flatMap(lambda x: [((word.lower(), x[1]), 1) for word in x[0].split()]) \\\n",
        "          .reduceByKey(add) \\\n",
        "          .map(lambda x: (x[0][0], (x[0][1], x[1]))) # ((palabra, (id_documento, tf)))\n",
        "# * Explicación de pasos:\n",
        "#  1. Se debe mapear cada documento en palabras, id de documento y frecuencia -> ((palabra, id_documento), 1).\n",
        "#     zipWithIndex() crea un nuevo RDD donde cada elemento `x` es una tupla de (documento (x[0]), id_documento (x[1]))\n",
        "#  2. flatMap() se utiliza para mapear la tupla anterior en ((palabra, id_documento), frecuencia=1) -> x[0].split() crea la lista de palabras de c/doc\n",
        "#  3. reduceByKey() agrupa todas las tuplas por (palabra, id_documento) y suma la frecuencia -> ((palabra, id_documento) (X[0]), suma (X[1]))\n",
        "#  4. map() mapea los resultados en ((palabra, (id_documento, tf))) donde cada palabra en id_documento aparece solo una vez con su respectiva suma de frecuencia\n",
        "\n",
        "\n",
        "# Calcular la frecuencia de documentos (DF) para cada palabra\n",
        "df = tf.map(lambda x: (x[0], 1)) \\\n",
        "       .reduceByKey(add)\n",
        "# * Explicación de pasos:\n",
        "#  1. Se utiliza .map() para mapear cada tupla de tf ((palabra, (id_documento, tf))) en (palabra (x[0]), frecuencia=1)\n",
        "#  2. reduceByKey() agrupa todas las tuplas por palabra[0] y suma la document frequency -> (palabra, DF)\n",
        "\n",
        "\n",
        "# Calcular la frecuencia de documentos inversa (IDF) mapeando cada palabra con su iDF -> (palabra, iDF)\n",
        "idf = df.map(lambda x: (x[0], log(total_documents / float(x[1]))))  \n",
        "# * Explicación de pasos:\n",
        "#  1. Se utiliza .map() para mapear cada tupla de DF (palabra, DF) en (palabra, iDF), se debe llevar a float DF para realizar la operación\n",
        "\n",
        "\n",
        "# Calcular TF-IDF\n",
        "tf_idf = tf.join(idf).map(lambda x: ((x[0], x[1][0][0]), x[1][0][1] * x[1][1]))\n",
        "# * Explicación de pasos:\n",
        "#  Estructura RDDs = `tf`-> (palabra, (id_documento, tf))  \n",
        "#                   `idf`-> (palabra, idf)  \n",
        "#  1. tf.join(idf) realiza un inner join entre `tf` e `idf` usando como llave \"palabra\" -> (palabra, ((id_documento, tf), idf)\n",
        "#  2. map() mapea el resultado de la tupla anterior como (palabra, id_documento), TF-iDF)\n",
        "\n",
        "\n",
        "# Recolectamos los resultados de tf_idf\n",
        "results = tf_idf.collect()\n",
        "\n",
        "# Detenemos la sesión de Spark\n",
        "spark.stop()"
      ]
    },
    {
      "cell_type": "code",
      "execution_count": 9,
      "metadata": {},
      "outputs": [
        {
          "data": {
            "text/plain": [
              "[(('of', 0), 3.980212471719005),\n",
              " (('of', 26), 1.9901062358595025),\n",
              " (('of', 40), 3.980212471719005),\n",
              " (('of', 42), 1.9901062358595025),\n",
              " (('of', 50), 3.980212471719005),\n",
              " (('of', 62), 3.980212471719005),\n",
              " (('of', 64), 1.9901062358595025),\n",
              " (('of', 76), 1.9901062358595025),\n",
              " (('of', 84), 1.9901062358595025),\n",
              " (('of', 92), 1.9901062358595025),\n",
              " (('of', 106), 1.9901062358595025),\n",
              " (('of', 108), 1.9901062358595025),\n",
              " (('of', 112), 1.9901062358595025),\n",
              " (('of', 122), 1.9901062358595025),\n",
              " (('of', 132), 1.9901062358595025),\n",
              " (('of', 134), 1.9901062358595025),\n",
              " (('of', 136), 1.9901062358595025),\n",
              " (('of', 144), 1.9901062358595025),\n",
              " (('of', 148), 1.9901062358595025),\n",
              " (('of', 202), 1.9901062358595025)]"
            ]
          },
          "execution_count": 9,
          "metadata": {},
          "output_type": "execute_result"
        }
      ],
      "source": [
        "results[:20]"
      ]
    },
    {
      "cell_type": "markdown",
      "metadata": {},
      "source": [
        "#### `PySpark en entorno productivo`"
      ]
    },
    {
      "cell_type": "code",
      "execution_count": 14,
      "metadata": {},
      "outputs": [
        {
          "name": "stdout",
          "output_type": "stream",
          "text": [
            "Overwriting TF-iDF.py\n"
          ]
        }
      ],
      "source": [
        "%%writefile TF-iDF.py\n",
        "\"\"\"TF-iDF.py\"\"\"\n",
        "\n",
        "#Librerías\n",
        "from pyspark.sql import SparkSession\n",
        "from math import log\n",
        "from operator import add\n",
        "\n",
        "#Nombre librerías\n",
        "text_file=\"pg100.txt\"\n",
        "\n",
        "\n",
        "spark = SparkSession.builder.appName('TF-IDF').getOrCreate()\n",
        "\n",
        "lines = spark.read.text(text_file).rdd.map(lambda r: r[0])\n",
        "\n",
        "total_documents = lines.count()\n",
        "\n",
        "tf = lines.zipWithIndex() \\\n",
        "          .flatMap(lambda x: [((word.lower(), x[1]), 1) for word in x[0].split()]) \\\n",
        "          .reduceByKey(add) \\\n",
        "          .map(lambda x: (x[0][0], (x[0][1], x[1]))) # ((palabra, (id_documento, tf)))\n",
        "\n",
        "df = tf.map(lambda x: (x[0], 1)) \\\n",
        "       .reduceByKey(add)\n",
        "\n",
        "idf = df.map(lambda x: (x[0], log(total_documents / float(x[1]))))  \n",
        "\n",
        "tf_idf = tf.join(idf).map(lambda x: ((x[0], x[1][0][0]), x[1][0][1] * x[1][1]))\n",
        "\n",
        "results_tfidf = tf_idf.collect()\n",
        "\n",
        "# Convertimos los resultados en strings y los escribimos en un archivo\n",
        "with open(\"results_tfidf.txt\", \"w\") as file:\n",
        "    for result in results_tfidf:\n",
        "        # Convertimos cada tupla a string\n",
        "        line = str(result) + \"\\n\"\n",
        "        file.write(line)\n",
        "\n",
        "# Detenemos la sesión de Spark\n",
        "spark.stop()\n"
      ]
    },
    {
      "cell_type": "code",
      "execution_count": 16,
      "metadata": {},
      "outputs": [],
      "source": [
        "!spark-submit TF-iDF.py 2>log_tf_idf.txt  ## Se guardan los logs en el archivo log_tf_idf.txt para retornar solo el resultado del .py"
      ]
    },
    {
      "cell_type": "code",
      "execution_count": 17,
      "metadata": {},
      "outputs": [
        {
          "name": "stdout",
          "output_type": "stream",
          "text": [
            "(('of', 0), 3.980212471719005)\n",
            "(('of', 26), 1.9901062358595025)\n",
            "(('of', 40), 3.980212471719005)\n",
            "(('of', 42), 1.9901062358595025)\n",
            "(('of', 50), 3.980212471719005)\n",
            "(('of', 62), 3.980212471719005)\n",
            "(('of', 64), 1.9901062358595025)\n",
            "(('of', 76), 1.9901062358595025)\n",
            "(('of', 84), 1.9901062358595025)\n",
            "(('of', 92), 1.9901062358595025)\n"
          ]
        }
      ],
      "source": [
        "# Leer los resultados desde el archivo\n",
        "with open(\"results_tfidf.txt\", \"r\") as file:\n",
        "    results = file.readlines()\n",
        "\n",
        "# Convertir los resultados a la forma deseada si es necesario y mostrar los primeros 10\n",
        "for result in results[:10]:\n",
        "    print(result.strip())"
      ]
    }
  ],
  "metadata": {
    "colab": {
      "provenance": []
    },
    "kernelspec": {
      "display_name": "Python 3",
      "name": "python3"
    },
    "language_info": {
      "codemirror_mode": {
        "name": "ipython",
        "version": 3
      },
      "file_extension": ".py",
      "mimetype": "text/x-python",
      "name": "python",
      "nbconvert_exporter": "python",
      "pygments_lexer": "ipython3",
      "version": "3.11.5"
    }
  },
  "nbformat": 4,
  "nbformat_minor": 0
}
